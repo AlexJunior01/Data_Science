{
  "nbformat": 4,
  "nbformat_minor": 0,
  "metadata": {
    "kernelspec": {
      "display_name": "Python 3",
      "language": "python",
      "name": "python3"
    },
    "language_info": {
      "codemirror_mode": {
        "name": "ipython",
        "version": 3
      },
      "file_extension": ".py",
      "mimetype": "text/x-python",
      "name": "python",
      "nbconvert_exporter": "python",
      "pygments_lexer": "ipython3",
      "version": "3.7.6"
    },
    "colab": {
      "name": "titanic-first-model.ipynb",
      "provenance": [],
      "include_colab_link": true
    }
  },
  "cells": [
    {
      "cell_type": "markdown",
      "metadata": {
        "id": "view-in-github",
        "colab_type": "text"
      },
      "source": [
        "<a href=\"https://colab.research.google.com/github/AlexJunior01/Data_Science/blob/master/Titanic.ipynb\" target=\"_parent\"><img src=\"https://colab.research.google.com/assets/colab-badge.svg\" alt=\"Open In Colab\"/></a>"
      ]
    },
    {
      "cell_type": "markdown",
      "metadata": {
        "id": "jJZH0gSxK11X",
        "colab_type": "text"
      },
      "source": [
        "# Titanic: First Machine Learning Model\n",
        "Muitos devem conhecer a história do naufrágio do Titanic, uma tragédia que ninguém esperava por ser o navio mais moderno e bem construído da época. O ocorrido ficou marcado na mente da maioria das pessoas e ganhou ainda mais destaque com o lançamento do filme sobre o mesmo que ganhou vários prêmios no Óscar.\n",
        "\n",
        "\n",
        "O desafio do Titanic é conhecido por ser um ótimo projeto para iniciantes na área de Data Science se aventurarem, provável se tornando o famoso **'Hello World'** do Data Science. Então aqui estou para me aventurar, analisar e criar uma modelo para o desafio de prever quem sobreviveria ao naufrágio.\n"
      ]
    },
    {
      "cell_type": "markdown",
      "metadata": {
        "id": "0Z3oC0QfK11X",
        "colab_type": "text"
      },
      "source": [
        "## 1 - Definição do problema:\n",
        "O naufrágio do Titanic ficou marcado na história grande parte pelo número de sobreviventes (apenas 722 de 2224 passageiros), e por ser o navio mais moderno com a fama de ser o navio \"inafundável\". Mais tarde foi descoberto os motivos do desastre, grande parte com falha humana (negligência do risco) e clima.\n",
        "\n",
        "<br>\n",
        "\n",
        "Muitos dos sobreviventes contaram com a sorte, mas será que somente a sorte foi a causa da salvação!? Ou existe um padrão por trás dos sobreviventes ao naufrágio.\n",
        "\n",
        "<br>\n",
        "\n",
        "O objetivo desse desafio é descobrir padrões nos dados do acidente, **encontrando variáveis** que influenciaram mais na sobrevivência e **criar um modelo** que receba como *input* informações de um passageiro e de a precisão se ele sobreviveria ao acidente ou não.\n",
        "\n",
        "<br><br>\n",
        "\n",
        "*A descrição completa da competição, assim como o conjunto de dados, está disponível na página do [Kaggle Titanic: Machine Learning from Disaster.](https://www.kaggle.com/c/titanic)*"
      ]
    },
    {
      "cell_type": "markdown",
      "metadata": {
        "id": "X-PjkLpxK11Y",
        "colab_type": "text"
      },
      "source": [
        "## 2 - Obtenção dos dados:\n",
        "Os dados do desafio estão disponíveis em [Kaggle](https://www.kaggle.com/c/titanic/data).\n",
        "<br><br>\n",
        "\n",
        "São disponibilizados três arquivos:\n",
        "1. *train.csv:*\n",
        "    * Informações sobre os passageiros e  se eles sobreviveram ou não ao acidente, deve ser utilizado para treinar o modelo.  \n",
        "2. *test.csv:*\n",
        "    * Informações sobre os passageiros porém não contém a informação sobre a sobrevivência do passageiro, deve ser usado nos testes como dados que nunca foram vistos pelo modelo.\n",
        "3. *gender_submission:*\n",
        "    * Um exemplo de como os dados devem ser entregues no fim do desafio.\n",
        "    \n"
      ]
    },
    {
      "cell_type": "code",
      "metadata": {
        "id": "vVBJ3ImEK11Z",
        "colab_type": "code",
        "colab": {
          "base_uri": "https://localhost:8080/",
          "height": 71
        },
        "outputId": "a4508768-8838-4ab7-c337-44ba923da41c"
      },
      "source": [
        "# Importando bibliotecas que serão utilizadas\n",
        "import pandas as pd\n",
        "import numpy as np\n",
        "import matplotlib.pyplot as plt\n",
        "import seaborn as sns"
      ],
      "execution_count": 1,
      "outputs": [
        {
          "output_type": "stream",
          "text": [
            "/usr/local/lib/python3.6/dist-packages/statsmodels/tools/_testing.py:19: FutureWarning: pandas.util.testing is deprecated. Use the functions in the public API at pandas.testing instead.\n",
            "  import pandas.util.testing as tm\n"
          ],
          "name": "stderr"
        }
      ]
    },
    {
      "cell_type": "code",
      "metadata": {
        "id": "Pc5DAlzHK11e",
        "colab_type": "code",
        "colab": {}
      },
      "source": [
        "# DataFrame que sera utilizado para treinar o modelo\n",
        "train = pd.read_csv(\"train.csv\")\n",
        "\n",
        "# DataFrame que será usado como teste do modelo\n",
        "test = pd.read_csv(\"test.csv\")"
      ],
      "execution_count": 2,
      "outputs": []
    },
    {
      "cell_type": "markdown",
      "metadata": {
        "id": "ckKE8ME_K11h",
        "colab_type": "text"
      },
      "source": [
        "## 3 - Exploração dos Dados:\n",
        "A primeira análise a ser feita deve é sobre as variáveis existentes no conjunto de dados, algumas informações importantes devem ser coletadas como nome, tipo, porcentagem de dados faltantes e a presença de outliers.\n",
        "<br><br>\n",
        "\n",
        "### Descrição das Variáveis:\n",
        "* **PassengerId:** Número de identificação do passageiro [chave primária];\n",
        "* **Survived:** Se o passageiro sobreviveu ou não (0 = No / 1 = Yes);\n",
        "* **Pclass:** Classe da passagem (1 = 1st, 2 = 2nd, 3 = 3rd);\n",
        "* **Name:** Nome do passageiro;\n",
        "* **Sex:** Sexo do passageiro;\n",
        "* **Age:** Idade do passageiro;\n",
        "* **SibSp:** Número de irmãos ou cônjuges;\n",
        "* **Parch:** Número de pais ou filhos;\n",
        "* **Ticket:** Número da passagem;\n",
        "* **Fare:** Preço da passagem;\n",
        "* **Cabin:** Cabine do passageiro;\n",
        "* **Embarked:** Porto em qual embarcou (C = Cherbourg, Q = Queenstown, S = Southampton)\n"
      ]
    },
    {
      "cell_type": "code",
      "metadata": {
        "id": "v8Yw3QuFK11h",
        "colab_type": "code",
        "colab": {
          "base_uri": "https://localhost:8080/",
          "height": 238
        },
        "outputId": "9a6d1592-4db7-4f9a-8020-0af404aadaeb"
      },
      "source": [
        "# Tipo de cada variável no conjunto de dados\n",
        "train.dtypes"
      ],
      "execution_count": 3,
      "outputs": [
        {
          "output_type": "execute_result",
          "data": {
            "text/plain": [
              "PassengerId      int64\n",
              "Survived         int64\n",
              "Pclass           int64\n",
              "Name            object\n",
              "Sex             object\n",
              "Age            float64\n",
              "SibSp            int64\n",
              "Parch            int64\n",
              "Ticket          object\n",
              "Fare           float64\n",
              "Cabin           object\n",
              "Embarked        object\n",
              "dtype: object"
            ]
          },
          "metadata": {
            "tags": []
          },
          "execution_count": 3
        }
      ]
    },
    {
      "cell_type": "markdown",
      "metadata": {
        "id": "LVDtTQCkK11k",
        "colab_type": "text"
      },
      "source": [
        "### Dados faltantes:\n",
        "A variável que possui maior número de informações faltantes é **Cabin** com 77%, logo em seguido vem **Age** com quase 20%. Por fim, temos **Embarked** com apenas 2%.\n",
        "\n",
        "Isso torna a variável **Cabin** inutilizável para a análise ou modelagem, já as outras duas é possível realizar algum método de interpolação para podermos utilizar na modelagem."
      ]
    },
    {
      "cell_type": "code",
      "metadata": {
        "id": "RPbU-q1uK11k",
        "colab_type": "code",
        "colab": {
          "base_uri": "https://localhost:8080/",
          "height": 238
        },
        "outputId": "df00f90e-f48e-4d4d-bf10-b5414b5be64d"
      },
      "source": [
        "(train.isnull().sum()/train.shape[0]).sort_values(ascending=False)"
      ],
      "execution_count": 4,
      "outputs": [
        {
          "output_type": "execute_result",
          "data": {
            "text/plain": [
              "Cabin          0.771044\n",
              "Age            0.198653\n",
              "Embarked       0.002245\n",
              "Fare           0.000000\n",
              "Ticket         0.000000\n",
              "Parch          0.000000\n",
              "SibSp          0.000000\n",
              "Sex            0.000000\n",
              "Name           0.000000\n",
              "Pclass         0.000000\n",
              "Survived       0.000000\n",
              "PassengerId    0.000000\n",
              "dtype: float64"
            ]
          },
          "metadata": {
            "tags": []
          },
          "execution_count": 4
        }
      ]
    },
    {
      "cell_type": "markdown",
      "metadata": {
        "id": "yFMVyijrK11m",
        "colab_type": "text"
      },
      "source": [
        "### Descobrindo padrões\n"
      ]
    },
    {
      "cell_type": "code",
      "metadata": {
        "id": "SjdNsv-YK11n",
        "colab_type": "code",
        "colab": {
          "base_uri": "https://localhost:8080/",
          "height": 297
        },
        "outputId": "2a8c1849-560c-46b4-8aae-a1707b7d7735"
      },
      "source": [
        "# Estatísticas gerais\n",
        "train.describe()"
      ],
      "execution_count": 5,
      "outputs": [
        {
          "output_type": "execute_result",
          "data": {
            "text/html": [
              "<div>\n",
              "<style scoped>\n",
              "    .dataframe tbody tr th:only-of-type {\n",
              "        vertical-align: middle;\n",
              "    }\n",
              "\n",
              "    .dataframe tbody tr th {\n",
              "        vertical-align: top;\n",
              "    }\n",
              "\n",
              "    .dataframe thead th {\n",
              "        text-align: right;\n",
              "    }\n",
              "</style>\n",
              "<table border=\"1\" class=\"dataframe\">\n",
              "  <thead>\n",
              "    <tr style=\"text-align: right;\">\n",
              "      <th></th>\n",
              "      <th>PassengerId</th>\n",
              "      <th>Survived</th>\n",
              "      <th>Pclass</th>\n",
              "      <th>Age</th>\n",
              "      <th>SibSp</th>\n",
              "      <th>Parch</th>\n",
              "      <th>Fare</th>\n",
              "    </tr>\n",
              "  </thead>\n",
              "  <tbody>\n",
              "    <tr>\n",
              "      <th>count</th>\n",
              "      <td>891.000000</td>\n",
              "      <td>891.000000</td>\n",
              "      <td>891.000000</td>\n",
              "      <td>714.000000</td>\n",
              "      <td>891.000000</td>\n",
              "      <td>891.000000</td>\n",
              "      <td>891.000000</td>\n",
              "    </tr>\n",
              "    <tr>\n",
              "      <th>mean</th>\n",
              "      <td>446.000000</td>\n",
              "      <td>0.383838</td>\n",
              "      <td>2.308642</td>\n",
              "      <td>29.699118</td>\n",
              "      <td>0.523008</td>\n",
              "      <td>0.381594</td>\n",
              "      <td>32.204208</td>\n",
              "    </tr>\n",
              "    <tr>\n",
              "      <th>std</th>\n",
              "      <td>257.353842</td>\n",
              "      <td>0.486592</td>\n",
              "      <td>0.836071</td>\n",
              "      <td>14.526497</td>\n",
              "      <td>1.102743</td>\n",
              "      <td>0.806057</td>\n",
              "      <td>49.693429</td>\n",
              "    </tr>\n",
              "    <tr>\n",
              "      <th>min</th>\n",
              "      <td>1.000000</td>\n",
              "      <td>0.000000</td>\n",
              "      <td>1.000000</td>\n",
              "      <td>0.420000</td>\n",
              "      <td>0.000000</td>\n",
              "      <td>0.000000</td>\n",
              "      <td>0.000000</td>\n",
              "    </tr>\n",
              "    <tr>\n",
              "      <th>25%</th>\n",
              "      <td>223.500000</td>\n",
              "      <td>0.000000</td>\n",
              "      <td>2.000000</td>\n",
              "      <td>20.125000</td>\n",
              "      <td>0.000000</td>\n",
              "      <td>0.000000</td>\n",
              "      <td>7.910400</td>\n",
              "    </tr>\n",
              "    <tr>\n",
              "      <th>50%</th>\n",
              "      <td>446.000000</td>\n",
              "      <td>0.000000</td>\n",
              "      <td>3.000000</td>\n",
              "      <td>28.000000</td>\n",
              "      <td>0.000000</td>\n",
              "      <td>0.000000</td>\n",
              "      <td>14.454200</td>\n",
              "    </tr>\n",
              "    <tr>\n",
              "      <th>75%</th>\n",
              "      <td>668.500000</td>\n",
              "      <td>1.000000</td>\n",
              "      <td>3.000000</td>\n",
              "      <td>38.000000</td>\n",
              "      <td>1.000000</td>\n",
              "      <td>0.000000</td>\n",
              "      <td>31.000000</td>\n",
              "    </tr>\n",
              "    <tr>\n",
              "      <th>max</th>\n",
              "      <td>891.000000</td>\n",
              "      <td>1.000000</td>\n",
              "      <td>3.000000</td>\n",
              "      <td>80.000000</td>\n",
              "      <td>8.000000</td>\n",
              "      <td>6.000000</td>\n",
              "      <td>512.329200</td>\n",
              "    </tr>\n",
              "  </tbody>\n",
              "</table>\n",
              "</div>"
            ],
            "text/plain": [
              "       PassengerId    Survived      Pclass  ...       SibSp       Parch        Fare\n",
              "count   891.000000  891.000000  891.000000  ...  891.000000  891.000000  891.000000\n",
              "mean    446.000000    0.383838    2.308642  ...    0.523008    0.381594   32.204208\n",
              "std     257.353842    0.486592    0.836071  ...    1.102743    0.806057   49.693429\n",
              "min       1.000000    0.000000    1.000000  ...    0.000000    0.000000    0.000000\n",
              "25%     223.500000    0.000000    2.000000  ...    0.000000    0.000000    7.910400\n",
              "50%     446.000000    0.000000    3.000000  ...    0.000000    0.000000   14.454200\n",
              "75%     668.500000    1.000000    3.000000  ...    1.000000    0.000000   31.000000\n",
              "max     891.000000    1.000000    3.000000  ...    8.000000    6.000000  512.329200\n",
              "\n",
              "[8 rows x 7 columns]"
            ]
          },
          "metadata": {
            "tags": []
          },
          "execution_count": 5
        }
      ]
    },
    {
      "cell_type": "code",
      "metadata": {
        "id": "yb9N5CiVK11p",
        "colab_type": "code",
        "colab": {
          "base_uri": "https://localhost:8080/",
          "height": 173
        },
        "outputId": "23af28a9-8b49-4e31-d2f3-1bdb854e5089"
      },
      "source": [
        "# Incluindo variáveis não numericas\n",
        "train.describe(include=['O'])"
      ],
      "execution_count": 6,
      "outputs": [
        {
          "output_type": "execute_result",
          "data": {
            "text/html": [
              "<div>\n",
              "<style scoped>\n",
              "    .dataframe tbody tr th:only-of-type {\n",
              "        vertical-align: middle;\n",
              "    }\n",
              "\n",
              "    .dataframe tbody tr th {\n",
              "        vertical-align: top;\n",
              "    }\n",
              "\n",
              "    .dataframe thead th {\n",
              "        text-align: right;\n",
              "    }\n",
              "</style>\n",
              "<table border=\"1\" class=\"dataframe\">\n",
              "  <thead>\n",
              "    <tr style=\"text-align: right;\">\n",
              "      <th></th>\n",
              "      <th>Name</th>\n",
              "      <th>Sex</th>\n",
              "      <th>Ticket</th>\n",
              "      <th>Cabin</th>\n",
              "      <th>Embarked</th>\n",
              "    </tr>\n",
              "  </thead>\n",
              "  <tbody>\n",
              "    <tr>\n",
              "      <th>count</th>\n",
              "      <td>891</td>\n",
              "      <td>891</td>\n",
              "      <td>891</td>\n",
              "      <td>204</td>\n",
              "      <td>889</td>\n",
              "    </tr>\n",
              "    <tr>\n",
              "      <th>unique</th>\n",
              "      <td>891</td>\n",
              "      <td>2</td>\n",
              "      <td>681</td>\n",
              "      <td>147</td>\n",
              "      <td>3</td>\n",
              "    </tr>\n",
              "    <tr>\n",
              "      <th>top</th>\n",
              "      <td>Skoog, Miss. Mabel</td>\n",
              "      <td>male</td>\n",
              "      <td>347082</td>\n",
              "      <td>C23 C25 C27</td>\n",
              "      <td>S</td>\n",
              "    </tr>\n",
              "    <tr>\n",
              "      <th>freq</th>\n",
              "      <td>1</td>\n",
              "      <td>577</td>\n",
              "      <td>7</td>\n",
              "      <td>4</td>\n",
              "      <td>644</td>\n",
              "    </tr>\n",
              "  </tbody>\n",
              "</table>\n",
              "</div>"
            ],
            "text/plain": [
              "                      Name   Sex  Ticket        Cabin Embarked\n",
              "count                  891   891     891          204      889\n",
              "unique                 891     2     681          147        3\n",
              "top     Skoog, Miss. Mabel  male  347082  C23 C25 C27        S\n",
              "freq                     1   577       7            4      644"
            ]
          },
          "metadata": {
            "tags": []
          },
          "execution_count": 6
        }
      ]
    },
    {
      "cell_type": "code",
      "metadata": {
        "id": "pzDdQoPZK11s",
        "colab_type": "code",
        "colab": {
          "base_uri": "https://localhost:8080/",
          "height": 669
        },
        "outputId": "a2b30930-960d-47fb-d35a-7c8949cfeb0b"
      },
      "source": [
        "# Distribuição da varíaveis\n",
        "train.hist(figsize=(10, 8))"
      ],
      "execution_count": 7,
      "outputs": [
        {
          "output_type": "execute_result",
          "data": {
            "text/plain": [
              "array([[<matplotlib.axes._subplots.AxesSubplot object at 0x7ff98cc649b0>,\n",
              "        <matplotlib.axes._subplots.AxesSubplot object at 0x7ff98cc3dc50>,\n",
              "        <matplotlib.axes._subplots.AxesSubplot object at 0x7ff98cbefeb8>],\n",
              "       [<matplotlib.axes._subplots.AxesSubplot object at 0x7ff98cbb1160>,\n",
              "        <matplotlib.axes._subplots.AxesSubplot object at 0x7ff98cb643c8>,\n",
              "        <matplotlib.axes._subplots.AxesSubplot object at 0x7ff98cb17630>],\n",
              "       [<matplotlib.axes._subplots.AxesSubplot object at 0x7ff98caca898>,\n",
              "        <matplotlib.axes._subplots.AxesSubplot object at 0x7ff98cafeac8>,\n",
              "        <matplotlib.axes._subplots.AxesSubplot object at 0x7ff98cafeb38>]],\n",
              "      dtype=object)"
            ]
          },
          "metadata": {
            "tags": []
          },
          "execution_count": 7
        },
        {
          "output_type": "display_data",
          "data": {
            "image/png": "[encoded data removed]",
            "text/plain": [
              "<Figure size 720x576 with 9 Axes>"
            ]
          },
          "metadata": {
            "tags": [],
            "needs_background": "light"
          }
        }
      ]
    },
    {
      "cell_type": "markdown",
      "metadata": {
        "id": "eQV2-YtyOmft",
        "colab_type": "text"
      },
      "source": [
        "Após analisar a distribuição geral das variáveis irei ver a taxa de sobrevivência dos passageiros em relaçao a certas características:\n",
        "\n",
        "1. Classe da passagem;\n",
        "2. Porto de embarque;\n",
        "3. Sexo;\n",
        "4. Idade.\n"
      ]
    },
    {
      "cell_type": "code",
      "metadata": {
        "id": "cYp5rwvAK11x",
        "colab_type": "code",
        "colab": {
          "base_uri": "https://localhost:8080/",
          "height": 386
        },
        "outputId": "4d8bece8-20e3-4ed8-cb53-98cd7c658f5f"
      },
      "source": [
        "# Analisando a taxa de sobrevivência em relação ao Pclass\n",
        "sns.catplot(x='Pclass', y='Survived', data=train, kind='bar')"
      ],
      "execution_count": 8,
      "outputs": [
        {
          "output_type": "execute_result",
          "data": {
            "text/plain": [
              "<seaborn.axisgrid.FacetGrid at 0x7ff9991a8550>"
            ]
          },
          "metadata": {
            "tags": []
          },
          "execution_count": 8
        },
        {
          "output_type": "display_data",
          "data": {
            "image/png": "[encoded data removed]",
            "text/plain": [
              "<Figure size 360x360 with 1 Axes>"
            ]
          },
          "metadata": {
            "tags": [],
            "needs_background": "light"
          }
        }
      ]
    },
    {
      "cell_type": "code",
      "metadata": {
        "id": "vtohVBMUMWiq",
        "colab_type": "code",
        "colab": {
          "base_uri": "https://localhost:8080/",
          "height": 386
        },
        "outputId": "6e58904b-c709-4874-ebb5-cb57b223ec50"
      },
      "source": [
        "# Analisando a taxa de sobrevivência em relação ao Embarked\n",
        "sns.catplot(x='Embarked', y='Survived', data=train, kind='bar')"
      ],
      "execution_count": 9,
      "outputs": [
        {
          "output_type": "execute_result",
          "data": {
            "text/plain": [
              "<seaborn.axisgrid.FacetGrid at 0x7ff98c87e860>"
            ]
          },
          "metadata": {
            "tags": []
          },
          "execution_count": 9
        },
        {
          "output_type": "display_data",
          "data": {
            "image/png": "[encoded data removed]",
            "text/plain": [
              "<Figure size 360x360 with 1 Axes>"
            ]
          },
          "metadata": {
            "tags": [],
            "needs_background": "light"
          }
        }
      ]
    },
    {
      "cell_type": "code",
      "metadata": {
        "id": "ATkm8qatMUvI",
        "colab_type": "code",
        "colab": {
          "base_uri": "https://localhost:8080/",
          "height": 386
        },
        "outputId": "c1f95861-fbb8-420f-bdbe-93fea88ff702"
      },
      "source": [
        "# Analisando a taxa de sobrevivência em relação ao Pclass\n",
        "sns.catplot(x='Sex', y='Survived', data=train, kind='bar')"
      ],
      "execution_count": 10,
      "outputs": [
        {
          "output_type": "execute_result",
          "data": {
            "text/plain": [
              "<seaborn.axisgrid.FacetGrid at 0x7ff999248f60>"
            ]
          },
          "metadata": {
            "tags": []
          },
          "execution_count": 10
        },
        {
          "output_type": "display_data",
          "data": {
            "image/png": "[encoded data removed]",
            "text/plain": [
              "<Figure size 360x360 with 1 Axes>"
            ]
          },
          "metadata": {
            "tags": [],
            "needs_background": "light"
          }
        }
      ]
    },
    {
      "cell_type": "code",
      "metadata": {
        "id": "TIgW_BuuK112",
        "colab_type": "code",
        "colab": {
          "base_uri": "https://localhost:8080/",
          "height": 296
        },
        "outputId": "61203886-0b91-4dce-eddc-4bc69a7ef115"
      },
      "source": [
        "# Analisando novamente o porto de embarque\n",
        "sns.barplot(x=\"Sex\", y=\"Survived\", hue=\"Embarked\", data=train)"
      ],
      "execution_count": 11,
      "outputs": [
        {
          "output_type": "execute_result",
          "data": {
            "text/plain": [
              "<matplotlib.axes._subplots.AxesSubplot at 0x7ff989ad3da0>"
            ]
          },
          "metadata": {
            "tags": []
          },
          "execution_count": 11
        },
        {
          "output_type": "display_data",
          "data": {
            "image/png": "[encoded data removed]",
            "text/plain": [
              "<Figure size 432x288 with 1 Axes>"
            ]
          },
          "metadata": {
            "tags": [],
            "needs_background": "light"
          }
        }
      ]
    },
    {
      "cell_type": "code",
      "metadata": {
        "id": "IfD38UOyK115",
        "colab_type": "code",
        "colab": {
          "base_uri": "https://localhost:8080/",
          "height": 441
        },
        "outputId": "845945f6-0437-4f4b-cdc4-0891b9b33baa"
      },
      "source": [
        "# Impacto da idade na chance de sobrevivência\n",
        "graficos = sns.FacetGrid(train, col=\"Survived\", row='Sex')\n",
        "graficos = graficos.map(plt.hist, 'Age')"
      ],
      "execution_count": 12,
      "outputs": [
        {
          "output_type": "display_data",
          "data": {
            "image/png": "[encoded data removed]",
            "text/plain": [
              "<Figure size 432x432 with 4 Axes>"
            ]
          },
          "metadata": {
            "tags": [],
            "needs_background": "light"
          }
        }
      ]
    },
    {
      "cell_type": "code",
      "metadata": {
        "id": "bWZvNNjvK119",
        "colab_type": "code",
        "colab": {
          "base_uri": "https://localhost:8080/",
          "height": 441
        },
        "outputId": "e2b75782-ed6a-4858-b241-aec4b589e063"
      },
      "source": [
        "# Analisando a distribuição  de sobreviventes de cada porto e classe quantitativamente\n",
        "grafico = sns.FacetGrid(train, col=\"Embarked\", row='Survived')\n",
        "grafico = grafico.map(plt.hist, 'Pclass')"
      ],
      "execution_count": 13,
      "outputs": [
        {
          "output_type": "display_data",
          "data": {
            "image/png": "[encoded data removed]",
            "text/plain": [
              "<Figure size 648x432 with 6 Axes>"
            ]
          },
          "metadata": {
            "tags": [],
            "needs_background": "light"
          }
        }
      ]
    },
    {
      "cell_type": "markdown",
      "metadata": {
        "id": "TaD5jyF5K12B",
        "colab_type": "text"
      },
      "source": [
        "Observando os gráficos acima tiramos alguma conclusões:\n",
        "* O Sexo parece ser a variável que possui maior influência na sobrevivência;\n",
        "* Outro característica que impactou significativamente na taxa de sobrevivência foi a classe da passagem;\n",
        "* Por mais que o porto de Southampton ter possuído o maior número de embarques aparentemente o número de sobreviventes foi parecido com o dos outros portos; \n",
        "* E também a idade teve influência, apesar de ser menor do que eu esperava, tendo um impacto relevante somente na faixa de 20 a 40 anos."
      ]
    },
    {
      "cell_type": "markdown",
      "metadata": {
        "id": "LUnUhF3dK12B",
        "colab_type": "text"
      },
      "source": [
        "## 4 - Preparação dos Dados:"
      ]
    },
    {
      "cell_type": "markdown",
      "metadata": {
        "id": "DzoXUE_kK12C",
        "colab_type": "text"
      },
      "source": [
        "## Juntando os DataSets\n",
        "Muitas vezes iremos alterar a estrutura do DataFrame de treino, codificando ou alterando variáveis, para criar o modelo em cima dessa nova arquitetura. Com isso os dados de teste vão ter que possuir essa nova arquitetura também, por isso é mais fácil juntar ambos realizar as mudanças e separá-los no final. "
      ]
    },
    {
      "cell_type": "code",
      "metadata": {
        "id": "FMnCCX2yK12C",
        "colab_type": "code",
        "colab": {}
      },
      "source": [
        "# Salvando os índices\n",
        "train_idx = train.shape[0]\n",
        "test_idx = test.shape[0]\n",
        "\n",
        "# Salvando o passengerId para a submissão no Kaggle\n",
        "passenger_Id = test['PassengerId']\n",
        "\n",
        "# Criando copia da coluna 'Survived para extrai-la durante a preparação'\n",
        "target = train['Survived'].copy()\n",
        "train.drop(['Survived'], axis=1, inplace=True)\n",
        "\n",
        "# Concatenando os DataFrames\n",
        "df_merged = pd.concat(objs=[train, test], axis=0).reset_index(drop=True)"
      ],
      "execution_count": 14,
      "outputs": []
    },
    {
      "cell_type": "markdown",
      "metadata": {
        "id": "yEQut6b1K12E",
        "colab_type": "text"
      },
      "source": [
        "## Selecionando as Features:\n",
        "\n",
        "Um dos principais serviços de um cientista de dados é descobrir quais features possuem maior relevância para a criação dos modelo de Machine Learning.\n",
        "\n",
        "Para esse modelo, vamos desconsiderar as variáveis ['PassengerId', 'Name', 'Ticket', 'Cabin'], pois aparentemente não possuem grande impacto na sobrevivência dos passageiros"
      ]
    },
    {
      "cell_type": "code",
      "metadata": {
        "id": "0a9bL4_KK12E",
        "colab_type": "code",
        "colab": {}
      },
      "source": [
        "df_merged.drop(['PassengerId', 'Name', 'Ticket', 'Cabin'], axis=1, inplace=True)"
      ],
      "execution_count": 15,
      "outputs": []
    },
    {
      "cell_type": "markdown",
      "metadata": {
        "id": "md0PNpz1K12G",
        "colab_type": "text"
      },
      "source": [
        "## Dados faltantes\n",
        "\n",
        "Muito provável que dados estejam faltando, devemos analisar eles e definir o que podemos fazer.\n",
        "Geralmente duas abordagens são utilizadas:\n",
        "   * Excluir a linha inteira;\n",
        "   * Preencher os valores (Média, Mediana, Valor acima ou abaixo, Valor mais frequente).\n",
        "\n",
        "Muitas vezes não é vantajoso excluir uma linha inteira, então sempre que possível devemos tentar preencher o valor."
      ]
    },
    {
      "cell_type": "code",
      "metadata": {
        "id": "9pIbWa5TK12G",
        "colab_type": "code",
        "colab": {
          "base_uri": "https://localhost:8080/",
          "height": 297
        },
        "outputId": "1b4f12ad-d442-4d32-ba5b-9d32c52382d7"
      },
      "source": [
        "df_merged.describe()"
      ],
      "execution_count": 16,
      "outputs": [
        {
          "output_type": "execute_result",
          "data": {
            "text/html": [
              "<div>\n",
              "<style scoped>\n",
              "    .dataframe tbody tr th:only-of-type {\n",
              "        vertical-align: middle;\n",
              "    }\n",
              "\n",
              "    .dataframe tbody tr th {\n",
              "        vertical-align: top;\n",
              "    }\n",
              "\n",
              "    .dataframe thead th {\n",
              "        text-align: right;\n",
              "    }\n",
              "</style>\n",
              "<table border=\"1\" class=\"dataframe\">\n",
              "  <thead>\n",
              "    <tr style=\"text-align: right;\">\n",
              "      <th></th>\n",
              "      <th>Pclass</th>\n",
              "      <th>Age</th>\n",
              "      <th>SibSp</th>\n",
              "      <th>Parch</th>\n",
              "      <th>Fare</th>\n",
              "    </tr>\n",
              "  </thead>\n",
              "  <tbody>\n",
              "    <tr>\n",
              "      <th>count</th>\n",
              "      <td>1309.000000</td>\n",
              "      <td>1046.000000</td>\n",
              "      <td>1309.000000</td>\n",
              "      <td>1309.000000</td>\n",
              "      <td>1308.000000</td>\n",
              "    </tr>\n",
              "    <tr>\n",
              "      <th>mean</th>\n",
              "      <td>2.294882</td>\n",
              "      <td>29.881138</td>\n",
              "      <td>0.498854</td>\n",
              "      <td>0.385027</td>\n",
              "      <td>33.295479</td>\n",
              "    </tr>\n",
              "    <tr>\n",
              "      <th>std</th>\n",
              "      <td>0.837836</td>\n",
              "      <td>14.413493</td>\n",
              "      <td>1.041658</td>\n",
              "      <td>0.865560</td>\n",
              "      <td>51.758668</td>\n",
              "    </tr>\n",
              "    <tr>\n",
              "      <th>min</th>\n",
              "      <td>1.000000</td>\n",
              "      <td>0.170000</td>\n",
              "      <td>0.000000</td>\n",
              "      <td>0.000000</td>\n",
              "      <td>0.000000</td>\n",
              "    </tr>\n",
              "    <tr>\n",
              "      <th>25%</th>\n",
              "      <td>2.000000</td>\n",
              "      <td>21.000000</td>\n",
              "      <td>0.000000</td>\n",
              "      <td>0.000000</td>\n",
              "      <td>7.895800</td>\n",
              "    </tr>\n",
              "    <tr>\n",
              "      <th>50%</th>\n",
              "      <td>3.000000</td>\n",
              "      <td>28.000000</td>\n",
              "      <td>0.000000</td>\n",
              "      <td>0.000000</td>\n",
              "      <td>14.454200</td>\n",
              "    </tr>\n",
              "    <tr>\n",
              "      <th>75%</th>\n",
              "      <td>3.000000</td>\n",
              "      <td>39.000000</td>\n",
              "      <td>1.000000</td>\n",
              "      <td>0.000000</td>\n",
              "      <td>31.275000</td>\n",
              "    </tr>\n",
              "    <tr>\n",
              "      <th>max</th>\n",
              "      <td>3.000000</td>\n",
              "      <td>80.000000</td>\n",
              "      <td>8.000000</td>\n",
              "      <td>9.000000</td>\n",
              "      <td>512.329200</td>\n",
              "    </tr>\n",
              "  </tbody>\n",
              "</table>\n",
              "</div>"
            ],
            "text/plain": [
              "            Pclass          Age        SibSp        Parch         Fare\n",
              "count  1309.000000  1046.000000  1309.000000  1309.000000  1308.000000\n",
              "mean      2.294882    29.881138     0.498854     0.385027    33.295479\n",
              "std       0.837836    14.413493     1.041658     0.865560    51.758668\n",
              "min       1.000000     0.170000     0.000000     0.000000     0.000000\n",
              "25%       2.000000    21.000000     0.000000     0.000000     7.895800\n",
              "50%       3.000000    28.000000     0.000000     0.000000    14.454200\n",
              "75%       3.000000    39.000000     1.000000     0.000000    31.275000\n",
              "max       3.000000    80.000000     8.000000     9.000000   512.329200"
            ]
          },
          "metadata": {
            "tags": []
          },
          "execution_count": 16
        }
      ]
    },
    {
      "cell_type": "code",
      "metadata": {
        "id": "QKnm2DXJK12I",
        "colab_type": "code",
        "colab": {
          "base_uri": "https://localhost:8080/",
          "height": 173
        },
        "outputId": "7f8f0f28-a700-4c10-8bf7-21ee0969b870"
      },
      "source": [
        "df_merged.describe(include=['O'])"
      ],
      "execution_count": 17,
      "outputs": [
        {
          "output_type": "execute_result",
          "data": {
            "text/html": [
              "<div>\n",
              "<style scoped>\n",
              "    .dataframe tbody tr th:only-of-type {\n",
              "        vertical-align: middle;\n",
              "    }\n",
              "\n",
              "    .dataframe tbody tr th {\n",
              "        vertical-align: top;\n",
              "    }\n",
              "\n",
              "    .dataframe thead th {\n",
              "        text-align: right;\n",
              "    }\n",
              "</style>\n",
              "<table border=\"1\" class=\"dataframe\">\n",
              "  <thead>\n",
              "    <tr style=\"text-align: right;\">\n",
              "      <th></th>\n",
              "      <th>Sex</th>\n",
              "      <th>Embarked</th>\n",
              "    </tr>\n",
              "  </thead>\n",
              "  <tbody>\n",
              "    <tr>\n",
              "      <th>count</th>\n",
              "      <td>1309</td>\n",
              "      <td>1307</td>\n",
              "    </tr>\n",
              "    <tr>\n",
              "      <th>unique</th>\n",
              "      <td>2</td>\n",
              "      <td>3</td>\n",
              "    </tr>\n",
              "    <tr>\n",
              "      <th>top</th>\n",
              "      <td>male</td>\n",
              "      <td>S</td>\n",
              "    </tr>\n",
              "    <tr>\n",
              "      <th>freq</th>\n",
              "      <td>843</td>\n",
              "      <td>914</td>\n",
              "    </tr>\n",
              "  </tbody>\n",
              "</table>\n",
              "</div>"
            ],
            "text/plain": [
              "         Sex Embarked\n",
              "count   1309     1307\n",
              "unique     2        3\n",
              "top     male        S\n",
              "freq     843      914"
            ]
          },
          "metadata": {
            "tags": []
          },
          "execution_count": 17
        }
      ]
    },
    {
      "cell_type": "markdown",
      "metadata": {
        "id": "xvf020nKK12L",
        "colab_type": "text"
      },
      "source": [
        "Para a tarifa e a idade colocarei o valor da mediana e para o porto de embarque colocarei o mais frequente."
      ]
    },
    {
      "cell_type": "code",
      "metadata": {
        "id": "xybcNO9eK12L",
        "colab_type": "code",
        "colab": {}
      },
      "source": [
        "mediana_idade = df_merged['Age'].median()\n",
        "df_merged['Age'].fillna(mediana_idade, inplace=True)\n",
        "\n",
        "mediana_tarifa = df_merged['Fare'].median()\n",
        "df_merged['Fare'].fillna(mediana_tarifa, inplace=True)\n",
        "\n",
        "porto_frequente = df_merged['Embarked'].sort_values()[0]\n",
        "df_merged['Embarked'].fillna(porto_frequente, inplace=True)"
      ],
      "execution_count": 18,
      "outputs": []
    },
    {
      "cell_type": "markdown",
      "metadata": {
        "id": "fPbENDYQK12N",
        "colab_type": "text"
      },
      "source": [
        "## Preparando as variáveis\n",
        "\n",
        "Modelos matemáticos precisam de variáveis numéricas, logo nosso próximo passo é transformar as variáveis categóricas em numéricas.\n",
        "* Para a variável *'Sex'* mapearemos os valores `{'male': 0, 'female': 1}`;\n",
        "* Já para a variável 'Embarked' aplicarei o conceito de variáveis dummies¹;\n",
        "\n",
        "*obs: 1 - variáveis dummies são variáveis que assumem valores 0 ou 1, para a substituição de variáveis categóricas é criado uma coluna extra para cada possibilidade e preenchido com 1 na categoria da linha e 0 nas extras*"
      ]
    },
    {
      "cell_type": "code",
      "metadata": {
        "id": "XhEPoaTcK12N",
        "colab_type": "code",
        "colab": {
          "base_uri": "https://localhost:8080/",
          "height": 204
        },
        "outputId": "28578791-09fa-47af-edd9-7872fdd403d2"
      },
      "source": [
        "# Estado do DataFrame antes da alteração\n",
        "df_merged.head()"
      ],
      "execution_count": 19,
      "outputs": [
        {
          "output_type": "execute_result",
          "data": {
            "text/html": [
              "<div>\n",
              "<style scoped>\n",
              "    .dataframe tbody tr th:only-of-type {\n",
              "        vertical-align: middle;\n",
              "    }\n",
              "\n",
              "    .dataframe tbody tr th {\n",
              "        vertical-align: top;\n",
              "    }\n",
              "\n",
              "    .dataframe thead th {\n",
              "        text-align: right;\n",
              "    }\n",
              "</style>\n",
              "<table border=\"1\" class=\"dataframe\">\n",
              "  <thead>\n",
              "    <tr style=\"text-align: right;\">\n",
              "      <th></th>\n",
              "      <th>Pclass</th>\n",
              "      <th>Sex</th>\n",
              "      <th>Age</th>\n",
              "      <th>SibSp</th>\n",
              "      <th>Parch</th>\n",
              "      <th>Fare</th>\n",
              "      <th>Embarked</th>\n",
              "    </tr>\n",
              "  </thead>\n",
              "  <tbody>\n",
              "    <tr>\n",
              "      <th>0</th>\n",
              "      <td>3</td>\n",
              "      <td>male</td>\n",
              "      <td>22.0</td>\n",
              "      <td>1</td>\n",
              "      <td>0</td>\n",
              "      <td>7.2500</td>\n",
              "      <td>S</td>\n",
              "    </tr>\n",
              "    <tr>\n",
              "      <th>1</th>\n",
              "      <td>1</td>\n",
              "      <td>female</td>\n",
              "      <td>38.0</td>\n",
              "      <td>1</td>\n",
              "      <td>0</td>\n",
              "      <td>71.2833</td>\n",
              "      <td>C</td>\n",
              "    </tr>\n",
              "    <tr>\n",
              "      <th>2</th>\n",
              "      <td>3</td>\n",
              "      <td>female</td>\n",
              "      <td>26.0</td>\n",
              "      <td>0</td>\n",
              "      <td>0</td>\n",
              "      <td>7.9250</td>\n",
              "      <td>S</td>\n",
              "    </tr>\n",
              "    <tr>\n",
              "      <th>3</th>\n",
              "      <td>1</td>\n",
              "      <td>female</td>\n",
              "      <td>35.0</td>\n",
              "      <td>1</td>\n",
              "      <td>0</td>\n",
              "      <td>53.1000</td>\n",
              "      <td>S</td>\n",
              "    </tr>\n",
              "    <tr>\n",
              "      <th>4</th>\n",
              "      <td>3</td>\n",
              "      <td>male</td>\n",
              "      <td>35.0</td>\n",
              "      <td>0</td>\n",
              "      <td>0</td>\n",
              "      <td>8.0500</td>\n",
              "      <td>S</td>\n",
              "    </tr>\n",
              "  </tbody>\n",
              "</table>\n",
              "</div>"
            ],
            "text/plain": [
              "   Pclass     Sex   Age  SibSp  Parch     Fare Embarked\n",
              "0       3    male  22.0      1      0   7.2500        S\n",
              "1       1  female  38.0      1      0  71.2833        C\n",
              "2       3  female  26.0      0      0   7.9250        S\n",
              "3       1  female  35.0      1      0  53.1000        S\n",
              "4       3    male  35.0      0      0   8.0500        S"
            ]
          },
          "metadata": {
            "tags": []
          },
          "execution_count": 19
        }
      ]
    },
    {
      "cell_type": "code",
      "metadata": {
        "id": "Vx_WbTUdK12R",
        "colab_type": "code",
        "colab": {
          "base_uri": "https://localhost:8080/",
          "height": 204
        },
        "outputId": "c34ec6d6-ef4c-400d-e769-5028bb58804c"
      },
      "source": [
        "# Mapeando os valores em relação ao sexo\n",
        "df_merged['Sex'] = df_merged['Sex'].map({'male': 0, 'female': 1})\n",
        "\n",
        "# Criando um DataFrame com as variáveis dummies\n",
        "embarked_dummies = pd.get_dummies(df_merged['Embarked'], prefix='Embarked')\n",
        "\n",
        "df_merged = pd.concat([df_merged, embarked_dummies], axis=1)\n",
        "df_merged.drop(['Embarked'], axis=1, inplace=True)\n",
        "df_merged.head()"
      ],
      "execution_count": 20,
      "outputs": [
        {
          "output_type": "execute_result",
          "data": {
            "text/html": [
              "<div>\n",
              "<style scoped>\n",
              "    .dataframe tbody tr th:only-of-type {\n",
              "        vertical-align: middle;\n",
              "    }\n",
              "\n",
              "    .dataframe tbody tr th {\n",
              "        vertical-align: top;\n",
              "    }\n",
              "\n",
              "    .dataframe thead th {\n",
              "        text-align: right;\n",
              "    }\n",
              "</style>\n",
              "<table border=\"1\" class=\"dataframe\">\n",
              "  <thead>\n",
              "    <tr style=\"text-align: right;\">\n",
              "      <th></th>\n",
              "      <th>Pclass</th>\n",
              "      <th>Sex</th>\n",
              "      <th>Age</th>\n",
              "      <th>SibSp</th>\n",
              "      <th>Parch</th>\n",
              "      <th>Fare</th>\n",
              "      <th>Embarked_C</th>\n",
              "      <th>Embarked_Q</th>\n",
              "      <th>Embarked_S</th>\n",
              "    </tr>\n",
              "  </thead>\n",
              "  <tbody>\n",
              "    <tr>\n",
              "      <th>0</th>\n",
              "      <td>3</td>\n",
              "      <td>0</td>\n",
              "      <td>22.0</td>\n",
              "      <td>1</td>\n",
              "      <td>0</td>\n",
              "      <td>7.2500</td>\n",
              "      <td>0</td>\n",
              "      <td>0</td>\n",
              "      <td>1</td>\n",
              "    </tr>\n",
              "    <tr>\n",
              "      <th>1</th>\n",
              "      <td>1</td>\n",
              "      <td>1</td>\n",
              "      <td>38.0</td>\n",
              "      <td>1</td>\n",
              "      <td>0</td>\n",
              "      <td>71.2833</td>\n",
              "      <td>1</td>\n",
              "      <td>0</td>\n",
              "      <td>0</td>\n",
              "    </tr>\n",
              "    <tr>\n",
              "      <th>2</th>\n",
              "      <td>3</td>\n",
              "      <td>1</td>\n",
              "      <td>26.0</td>\n",
              "      <td>0</td>\n",
              "      <td>0</td>\n",
              "      <td>7.9250</td>\n",
              "      <td>0</td>\n",
              "      <td>0</td>\n",
              "      <td>1</td>\n",
              "    </tr>\n",
              "    <tr>\n",
              "      <th>3</th>\n",
              "      <td>1</td>\n",
              "      <td>1</td>\n",
              "      <td>35.0</td>\n",
              "      <td>1</td>\n",
              "      <td>0</td>\n",
              "      <td>53.1000</td>\n",
              "      <td>0</td>\n",
              "      <td>0</td>\n",
              "      <td>1</td>\n",
              "    </tr>\n",
              "    <tr>\n",
              "      <th>4</th>\n",
              "      <td>3</td>\n",
              "      <td>0</td>\n",
              "      <td>35.0</td>\n",
              "      <td>0</td>\n",
              "      <td>0</td>\n",
              "      <td>8.0500</td>\n",
              "      <td>0</td>\n",
              "      <td>0</td>\n",
              "      <td>1</td>\n",
              "    </tr>\n",
              "  </tbody>\n",
              "</table>\n",
              "</div>"
            ],
            "text/plain": [
              "   Pclass  Sex   Age  SibSp  Parch     Fare  Embarked_C  Embarked_Q  Embarked_S\n",
              "0       3    0  22.0      1      0   7.2500           0           0           1\n",
              "1       1    1  38.0      1      0  71.2833           1           0           0\n",
              "2       3    1  26.0      0      0   7.9250           0           0           1\n",
              "3       1    1  35.0      1      0  53.1000           0           0           1\n",
              "4       3    0  35.0      0      0   8.0500           0           0           1"
            ]
          },
          "metadata": {
            "tags": []
          },
          "execution_count": 20
        }
      ]
    },
    {
      "cell_type": "markdown",
      "metadata": {
        "id": "447r7BJbK12T",
        "colab_type": "text"
      },
      "source": [
        "## Recuperação dos datasets\n",
        "\n",
        "Agora que acabamos de alterar a arquitetura do Data Set vamos restaurar a versão original, com isso ambos já estão prontos para serem utilizados. Caso não tivéssemos unido os Data Set teríamos que fazer o mesmo procedimento para o Data Set de teste."
      ]
    },
    {
      "cell_type": "code",
      "metadata": {
        "id": "tuiEzm9iK12T",
        "colab_type": "code",
        "colab": {}
      },
      "source": [
        "train = df_merged.iloc[:train_idx]\n",
        "test = df_merged.iloc[train_idx:]"
      ],
      "execution_count": 21,
      "outputs": []
    },
    {
      "cell_type": "markdown",
      "metadata": {
        "id": "pwvszZtjK12V",
        "colab_type": "text"
      },
      "source": [
        "## 5 - Criação do Modelo:"
      ]
    },
    {
      "cell_type": "markdown",
      "metadata": {
        "id": "vF3LCEv4K12W",
        "colab_type": "text"
      },
      "source": [
        "Chegamos na parte que para mim parecia ser a mais complicada, por existir um grande breu, a criação do modelo de *Machine Learning*.\n",
        "\n",
        "Mas com o curso liberado pelo [Kaggle: Intro to Machine Learning](https://www.kaggle.com/learn/intro-to-machine-learning) clareou minha mente e mostrou que com algumas bibliotecas e poucas linhas podemos criar alguns modelos básicos, o que facilita muito para quem está começando.\n",
        "\n",
        "Nesse projeto utilizarei dois modelos:\n",
        "* Random Forest Classifier;\n",
        "* Decision Tree Classifier.\n",
        "\n",
        "Ambos forem explicados no curso que mencionei acima, então recomendo fortemente que se estiverem começando na área que façam ele."
      ]
    },
    {
      "cell_type": "code",
      "metadata": {
        "_cell_guid": "79c7e3d0-c299-4dcb-8224-4455121ee9b0",
        "_uuid": "d629ff2d2480ee46fbb7e2d37f6b5fab8052498a",
        "id": "UjWlBVuPK12W",
        "colab_type": "code",
        "colab": {}
      },
      "source": [
        "# Importanto os modelos\n",
        "from sklearn.ensemble import RandomForestClassifier\n",
        "from sklearn.tree import DecisionTreeClassifier"
      ],
      "execution_count": 22,
      "outputs": []
    },
    {
      "cell_type": "code",
      "metadata": {
        "id": "zHNzUimfK12Z",
        "colab_type": "code",
        "colab": {
          "base_uri": "https://localhost:8080/",
          "height": 119
        },
        "outputId": "0eef3941-7733-4354-ca5d-145266759d6a"
      },
      "source": [
        "# Criando e treinando o primeiro modelo\n",
        "dt_model = DecisionTreeClassifier(random_state=1)\n",
        "dt_model.fit(train, target)"
      ],
      "execution_count": 23,
      "outputs": [
        {
          "output_type": "execute_result",
          "data": {
            "text/plain": [
              "DecisionTreeClassifier(ccp_alpha=0.0, class_weight=None, criterion='gini',\n",
              "                       max_depth=None, max_features=None, max_leaf_nodes=None,\n",
              "                       min_impurity_decrease=0.0, min_impurity_split=None,\n",
              "                       min_samples_leaf=1, min_samples_split=2,\n",
              "                       min_weight_fraction_leaf=0.0, presort='deprecated',\n",
              "                       random_state=1, splitter='best')"
            ]
          },
          "metadata": {
            "tags": []
          },
          "execution_count": 23
        }
      ]
    },
    {
      "cell_type": "code",
      "metadata": {
        "id": "SCxTqTsWK12b",
        "colab_type": "code",
        "colab": {}
      },
      "source": [
        "# Fazendo as predições\n",
        "y_pred_dt = dt_model.predict(test)\n",
        "\n",
        "# Colocando no modelo pedido pelo Kaggle para submissão\n",
        "submission = pd.DataFrame({\n",
        "    \"PassengerId\": passenger_Id,\n",
        "    \"Survived\": y_pred_dt\n",
        "})\n",
        "\n",
        "# Gerando o arquivo \n",
        "submission.to_csv('./submission_dt.csv', index=False)"
      ],
      "execution_count": 24,
      "outputs": []
    },
    {
      "cell_type": "markdown",
      "metadata": {
        "id": "SdAPofiIK12e",
        "colab_type": "text"
      },
      "source": [
        "O modelo de Árvore de Decisão ficou com 73.20%, o que é uma pontuação boa para um primeiro modelo. "
      ]
    },
    {
      "cell_type": "code",
      "metadata": {
        "id": "zyGOcfakK12e",
        "colab_type": "code",
        "colab": {
          "base_uri": "https://localhost:8080/",
          "height": 153
        },
        "outputId": "f1bacc78-ece6-4662-8f03-ce792a3469f2"
      },
      "source": [
        "# criando e treinando segundo modelo\n",
        "rf_model = RandomForestClassifier()\n",
        "rf_model.fit(train, target)"
      ],
      "execution_count": 25,
      "outputs": [
        {
          "output_type": "execute_result",
          "data": {
            "text/plain": [
              "RandomForestClassifier(bootstrap=True, ccp_alpha=0.0, class_weight=None,\n",
              "                       criterion='gini', max_depth=None, max_features='auto',\n",
              "                       max_leaf_nodes=None, max_samples=None,\n",
              "                       min_impurity_decrease=0.0, min_impurity_split=None,\n",
              "                       min_samples_leaf=1, min_samples_split=2,\n",
              "                       min_weight_fraction_leaf=0.0, n_estimators=100,\n",
              "                       n_jobs=None, oob_score=False, random_state=None,\n",
              "                       verbose=0, warm_start=False)"
            ]
          },
          "metadata": {
            "tags": []
          },
          "execution_count": 25
        }
      ]
    },
    {
      "cell_type": "code",
      "metadata": {
        "id": "EL8FtB95K12h",
        "colab_type": "code",
        "colab": {}
      },
      "source": [
        "# Fazendo as predições\n",
        "y_pred_rf = rf_model.predict(test)\n",
        "\n",
        "# Colocando no modelo pedido pelo Kaggle para submissão\n",
        "submission = pd.DataFrame({\n",
        "    'PassengerId': passenger_Id,\n",
        "    'Survived': y_pred_rf\n",
        "})\n",
        "\n",
        "# Gerando o arquivo \n",
        "submission.to_csv('./submission_rf.csv', index=False)"
      ],
      "execution_count": 26,
      "outputs": []
    },
    {
      "cell_type": "markdown",
      "metadata": {
        "id": "DGusenL-K12j",
        "colab_type": "text"
      },
      "source": [
        "Já com o modelo Random Forest tivemos uma pequeno ganho de acurácia, ficando com 75.59%. Um ótimo ganho por apenas trocar de modelo."
      ]
    },
    {
      "cell_type": "markdown",
      "metadata": {
        "id": "Cu2soUxUK12k",
        "colab_type": "text"
      },
      "source": [
        "## Eu sobreviveria ao Titanic!?\n",
        "\n",
        "Agora que o modelo foi finalizado chegamos ao momento mais esperado, será que eu sobreviveria ao Titanic!? Vou fazer o teste colocando como preço da tarifa a mediana e com porto de embarque o mais frequente para fazer o teste."
      ]
    },
    {
      "cell_type": "code",
      "metadata": {
        "id": "-PhPpl7sK12k",
        "colab_type": "code",
        "colab": {}
      },
      "source": [
        "median_fare = train['Fare'].median()\n",
        "alex = np.array([3, 0, 21, 0, 0, median_fare, 0, 0, 1]).reshape((1,-1))"
      ],
      "execution_count": 27,
      "outputs": []
    },
    {
      "cell_type": "code",
      "metadata": {
        "id": "AK4784bJK12n",
        "colab_type": "code",
        "colab": {
          "base_uri": "https://localhost:8080/",
          "height": 34
        },
        "outputId": "6e939f94-2300-4716-abdf-2fbdc0adb9e3"
      },
      "source": [
        "rf_model.predict(alex)[0]"
      ],
      "execution_count": 28,
      "outputs": [
        {
          "output_type": "execute_result",
          "data": {
            "text/plain": [
              "0"
            ]
          },
          "metadata": {
            "tags": []
          },
          "execution_count": 28
        }
      ]
    },
    {
      "cell_type": "markdown",
      "metadata": {
        "id": "Ptot2-SBK12p",
        "colab_type": "text"
      },
      "source": [
        "Bem, infelizmente meu próprio modelo indicou que eu não sobreviveria ao Titanic.\n",
        "\n",
        "## Conclusão:\n",
        "\n",
        "Gostei muito de fazer esse projeto e achei realmente bom para se iniciar por ele. Tive dificuldade em analisar certas variáveis e entender o que os gráficos expressavam, achando que fiz coisas bem superficiais. Mas com isso já sei que preciso melhorar e tenho um certo rumo agora além de um projeto feito."
      ]
    }
  ]
}